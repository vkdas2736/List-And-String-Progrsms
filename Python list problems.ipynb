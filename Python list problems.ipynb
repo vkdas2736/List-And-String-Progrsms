{
 "cells": [
  {
   "cell_type": "markdown",
   "id": "27d92b77",
   "metadata": {},
   "source": [
    "# Prime number in the list"
   ]
  },
  {
   "cell_type": "code",
   "execution_count": 8,
   "id": "ebf3ccea",
   "metadata": {},
   "outputs": [
    {
     "name": "stdout",
     "output_type": "stream",
     "text": [
      "[2, 3, 5, 7, 11, 13]\n",
      "[1, 4, 6, 8, 9, 10, 12, 14, 15]\n"
     ]
    }
   ],
   "source": [
    "list1=[1,2,3,4,5,6,7,8,9,10,11,12,13,14,15]\n",
    "prime=[]\n",
    "notprime=[]\n",
    "for i in list1:\n",
    "    c=0\n",
    "    for j in range(1,i):\n",
    "    \n",
    "        if i%j==0:\n",
    "            c=c+1\n",
    "    if c==1:\n",
    "        prime.append(i)\n",
    "    else:\n",
    "        notprime.append(i)\n",
    "print(prime)\n",
    "print(notprime)\n",
    "            "
   ]
  },
  {
   "cell_type": "code",
   "execution_count": 9,
   "id": "9c5ec856",
   "metadata": {},
   "outputs": [
    {
     "name": "stdout",
     "output_type": "stream",
     "text": [
      "[2, 14, 1248, 9846, 1248]\n",
      "[1, 3, 5, 959, 589]\n"
     ]
    }
   ],
   "source": [
    "list2=[1,2,3,5,959,589,14,1248,9846,1248]\n",
    "even=[]\n",
    "odd=[]\n",
    "for i in list2:\n",
    "    if i%2==0:\n",
    "        even.append(i)\n",
    "    else:\n",
    "        odd.append(i)\n",
    "print(even)\n",
    "print(odd)"
   ]
  },
  {
   "cell_type": "code",
   "execution_count": 13,
   "id": "42e93a27",
   "metadata": {},
   "outputs": [
    {
     "name": "stdout",
     "output_type": "stream",
     "text": [
      "Enter a string :pythonprogramming \n",
      "y\tt\th\ta\ti\t \t"
     ]
    }
   ],
   "source": [
    "string1=input(\"Enter a string :\")\n",
    "for i in string1:\n",
    "    c=0\n",
    "    for j in string1:\n",
    "        if i==j:\n",
    "            c=c+1\n",
    "            if c>1:\n",
    "                break\n",
    "    if c==1:\n",
    "        print(i,end=\"\\t\")\n",
    "        "
   ]
  },
  {
   "cell_type": "code",
   "execution_count": null,
   "id": "94f5e599",
   "metadata": {},
   "outputs": [],
   "source": []
  }
 ],
 "metadata": {
  "kernelspec": {
   "display_name": "Python 3 (ipykernel)",
   "language": "python",
   "name": "python3"
  },
  "language_info": {
   "codemirror_mode": {
    "name": "ipython",
    "version": 3
   },
   "file_extension": ".py",
   "mimetype": "text/x-python",
   "name": "python",
   "nbconvert_exporter": "python",
   "pygments_lexer": "ipython3",
   "version": "3.10.5"
  }
 },
 "nbformat": 4,
 "nbformat_minor": 5
}
